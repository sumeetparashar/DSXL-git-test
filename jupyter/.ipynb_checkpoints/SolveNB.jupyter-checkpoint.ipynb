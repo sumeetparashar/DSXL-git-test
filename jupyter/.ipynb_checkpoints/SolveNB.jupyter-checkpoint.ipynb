{
 "cells": [
  {
   "cell_type": "code",
   "execution_count": 1,
   "metadata": {
    "collapsed": false,
    "deletable": true,
    "editable": true,
    "scrolled": true
   },
   "outputs": [],
   "source": [
    "#dd-ignore \n",
    "from dd_scenario import *\n",
    "client = Client()\n",
    "fw = client.get_decision_framework(name=\"PredictiveMaintenance\")\n",
    "sc = fw.get_scenario(name=\"Scenario 1\")\n",
    "inputs = sc.get_tables_data(category='input')\n"
   ]
  },
  {
   "cell_type": "code",
   "execution_count": 2,
   "metadata": {
    "collapsed": false,
    "deletable": true,
    "editable": true
   },
   "outputs": [],
   "source": [
    "import pandas as pd\n",
    "import numpy as np\n",
    "\n",
    "df_day = inputs['day']\n",
    "\n",
    "df_machine = inputs['machine']\n",
    "\n",
    "df_predicted_failure = inputs['predicted_failure']\n",
    "df_predicted_failure = df_predicted_failure.set_index(['machine', 'day'])\n",
    "\n",
    "df_planned_production = inputs['planned_production']\n",
    "df_planned_production = df_planned_production.set_index(['machine', 'day'])\n",
    "\n",
    "df_parameters = inputs['parameters']\n",
    "\n",
    "# first global collections to iterate upon  \n",
    "all_machines = df_machine['id'].values\n",
    "all_days = df_day['id'].values\n",
    "\n",
    "data_cumul_failure = []\n",
    "for machine in all_machines:\n",
    "    for i, d in np.ndenumerate(all_days):\n",
    "        cumul = 0\n",
    "        for i2, d2 in np.ndenumerate(all_days):\n",
    "            if i2==i:\n",
    "                break\n",
    "            cumul += int(df_predicted_failure.failure[machine, d2])\n",
    "        data_cumul_failure.append((machine, d, cumul))\n",
    "\n",
    "df_cumul_failure = pd.DataFrame(data_cumul_failure, columns=['machine', 'day', 'cumul_failure'])\n",
    "df_cumul_failure=df_cumul_failure.set_index(['machine', 'day'])\n"
   ]
  },
  {
   "cell_type": "code",
   "execution_count": 3,
   "metadata": {
    "collapsed": false,
    "deletable": true,
    "editable": true
   },
   "outputs": [
    {
     "name": "stdout",
     "output_type": "stream",
     "text": [
      "* system is: Linux 64bit\n",
      "* Python is present, version is 2.7.13\n",
      "* docplex is present, version is (2, 4, 61)\n",
      "* CPLEX wrapper is present, version is 12.7.0.0, located at: /opt/conda/lib/python2.7/site-packages\n"
     ]
    }
   ],
   "source": [
    "from docplex.mp.environment import Environment\n",
    "env = Environment()\n",
    "env.print_information()    "
   ]
  },
  {
   "cell_type": "code",
   "execution_count": 4,
   "metadata": {
    "collapsed": true,
    "deletable": true,
    "editable": true
   },
   "outputs": [],
   "source": [
    "from docplex.mp.model import Model\n",
    "mdl = Model(name=\"PredictiveMaintenance\")"
   ]
  },
  {
   "cell_type": "code",
   "execution_count": 5,
   "metadata": {
    "collapsed": false,
    "deletable": true,
    "editable": true
   },
   "outputs": [],
   "source": [
    "\n",
    "# the variables.\n",
    "production = mdl.continuous_var_matrix(keys1=all_machines, keys2=all_days, name=lambda ns: \"Production_%s_%s\" % (ns[0],ns[1]))\n",
    "df_production = pd.DataFrame({'production': production})\n",
    "df_production.index.names=['all_machines', 'all_days']\n",
    "\n",
    "maintenance = mdl.binary_var_matrix(keys1=all_machines, keys2=all_days, name=lambda ns: \"Maintenance_%s_%s\" % (ns[0],ns[1]))\n",
    "df_maintenance = pd.DataFrame({'maintenance': maintenance})\n",
    "df_maintenance.index.names=['all_machines', 'all_days']\n"
   ]
  },
  {
   "cell_type": "code",
   "execution_count": 6,
   "metadata": {
    "collapsed": false,
    "deletable": true,
    "editable": true
   },
   "outputs": [],
   "source": [
    "for machine in all_machines:       \n",
    "    maintenance_loss = int(df_machine[df_machine.id==machine]['maintenance loss'])/100.\n",
    "    capacity = int(df_machine[df_machine.id==machine]['capacity'])\n",
    "    for day in all_days:   \n",
    "        prod = df_planned_production.production[machine, day]\n",
    "        #mdl.add_if_then( maintenance[machine, day] == 1, production[machine, day]== 0 )\n",
    "        #mdl.add_if_then( maintenance[machine, day] == 0, production[machine, day]== df_production[df_production.machine==machine][df_production.day==day] )\n",
    "        if (prod <= capacity*(1-maintenance_loss)):\n",
    "            mdl.add_constraint( production[machine, day] == prod )\n",
    "        else:\n",
    "            mdl.add_constraint( production[machine, day] == prod - (prod-capacity*(1-maintenance_loss))*maintenance[machine, day])\n",
    "        "
   ]
  },
  {
   "cell_type": "code",
   "execution_count": 7,
   "metadata": {
    "collapsed": false,
    "deletable": true,
    "editable": true
   },
   "outputs": [],
   "source": [
    "# One maintenance per machine\n",
    "for machine in all_machines:       \n",
    "    mdl.add_constraint( mdl.sum(maintenance[machine, day] for day in all_days) == 1)\n",
    "    \n",
    "maintenance_crew_size = int(df_parameters[df_parameters.id=='maintenance crew size']['value'])\n",
    "\n",
    "# One maintenance at a time\n",
    "for day in all_days:       \n",
    "    mdl.add_constraint( mdl.sum(maintenance[machine, day] for machine in all_machines) <= maintenance_crew_size)\n",
    "\n",
    "data_cost_maintenance = []\n",
    "cost_kpis = []\n",
    "# Cost of repair\n",
    "for machine in all_machines:           \n",
    "    #print machine\n",
    "    life = int(df_machine[df_machine.id==machine]['remaining life'])\n",
    "    capacity = int(df_machine[df_machine.id==machine]['capacity'])\n",
    "    cost_of_maintenance = int(df_machine[df_machine.id==machine]['cost of maintenance'])\n",
    "    maintenance_loss = int(df_machine[df_machine.id==machine]['maintenance loss'])/100.\n",
    "    cost_of_repair = int(df_machine[df_machine.id==machine]['cost of repair'])\n",
    "    repair_loss = int(df_machine[df_machine.id==machine]['repair loss'])/100.\n",
    "    loss_per_life_day = int(df_machine[df_machine.id==machine]['loss per life day'])\n",
    "    production_value_unit = int(df_machine[df_machine.id==machine]['production value unit'])\n",
    "    \n",
    "    previous_day = None\n",
    "    for i, day in np.ndenumerate(all_days):\n",
    "        cost = 0;\n",
    "        prob_break_before = 0\n",
    "        if (previous_day != None):\n",
    "            prob_break_before = int(df_cumul_failure.cumul_failure[machine, previous_day])/100.\n",
    "        previous_day = day\n",
    "        \n",
    "        #print prob_break_before\n",
    "        \n",
    "        # Cost of lost production if failure before maintenance\n",
    "        for i2, day2 in np.ndenumerate(all_days):\n",
    "            if (i2==i):\n",
    "                break\n",
    "            prob_break_day2 = int(df_predicted_failure.failure[machine, day2])/100.\n",
    "            production_day2 = int(df_planned_production.production[machine, day2])\n",
    "            if (production_day2 > capacity*(1-repair_loss)):\n",
    "                cost += production_value_unit*prob_break_day2*(production_day2 - capacity*(1-repair_loss))\n",
    "            \n",
    "        # Cost of repair if breaking before maintenance\n",
    "        cost += cost_of_repair*prob_break_before\n",
    "        \n",
    "        # Cost of maintenance\n",
    "        cost += cost_of_maintenance*(1-prob_break_before)\n",
    "        \n",
    "        # Cost of lost production for maintenance\n",
    "        production_day = int(df_planned_production.production[machine, day])\n",
    "        if (production_day > capacity*(1-maintenance_loss)):\n",
    "            cost += production_value_unit*(production_day - capacity*(1-maintenance_loss))\n",
    "        \n",
    "        # Cost of maintenance too early\n",
    "        cost += loss_per_life_day*max(life-i[0], 0)\n",
    "        \n",
    "        #print cost\n",
    "        data_cost_maintenance.append((machine, day, cost))\n",
    "        \n",
    "        cost_kpis.append(cost*maintenance[machine, day])\n",
    "        \n",
    "cost_kpi = mdl.sum(cost_kpis)\n",
    "mdl.add_kpi(cost_kpi, \"Cost\")\n",
    "\n",
    "df_cost_maintenance = pd.DataFrame(data_cost_maintenance, columns=['machine', 'day', 'cost_maintenance'])\n",
    "#print df_cost_maintenance"
   ]
  },
  {
   "cell_type": "code",
   "execution_count": 8,
   "metadata": {
    "collapsed": false,
    "deletable": true,
    "editable": true
   },
   "outputs": [
    {
     "data": {
      "text/plain": [
       "DecisionKPI(name=Total Production,expr=Production_M1_Day-01+Production_M1_Day-02+Production_M1_Day-03+P..)"
      ]
     },
     "execution_count": 8,
     "metadata": {},
     "output_type": "execute_result"
    }
   ],
   "source": [
    "total_planned_production = mdl.sum(df_planned_production.production)\n",
    "mdl.add_kpi(total_planned_production, \"Total Planned Production\")\n",
    "total_production = mdl.sum(df_production.production)\n",
    "mdl.add_kpi(total_production, \"Total Production\")\n"
   ]
  },
  {
   "cell_type": "code",
   "execution_count": 15,
   "metadata": {
    "collapsed": false,
    "deletable": true,
    "editable": true
   },
   "outputs": [],
   "source": [
    "strategy = int(df_parameters[df_parameters.id=='strategy']['value'])\n",
    "\n",
    "if (strategy == 1):\n",
    "    mdl.minimize(cost_kpi)\n",
    "else:\n",
    "    early = 10\n",
    "    late = 1000\n",
    "    for machine in all_machines:           \n",
    "        \n",
    "        last_day = None\n",
    "        temp = [] \n",
    "        for i, day in np.ndenumerate(all_days):\n",
    "            last_day = day;\n",
    "            cumul_failure = int(df_cumul_failure.cumul_failure[machine, day])\n",
    "            if (cumul_failure > 0):                            \n",
    "                temp.append(late * maintenance[machine, day] )\n",
    "            else:\n",
    "                temp.append(early * i[0] * maintenance[machine, day] )\n",
    "\n",
    "        \n",
    "    late_kpi = mdl.sum(late)\n",
    "    mdl.minimize(late_kpi)\n"
   ]
  },
  {
   "cell_type": "code",
   "execution_count": 10,
   "metadata": {
    "collapsed": false,
    "deletable": true,
    "editable": true
   },
   "outputs": [
    {
     "name": "stdout",
     "output_type": "stream",
     "text": [
      "Found incumbent of value 1010.000000 after 0.00 sec. (0.01 ticks)\n",
      "Tried aggregator 1 time.\n",
      "MIP Presolve eliminated 60 rows and 60 columns.\n",
      "Reduced MIP has 23 rows, 60 columns, and 120 nonzeros.\n",
      "Reduced MIP has 60 binaries, 0 generals, 0 SOSs, and 0 indicators.\n",
      "Presolve time = 0.01 sec. (0.10 ticks)\n",
      "Probing time = 0.00 sec. (0.06 ticks)\n",
      "Tried aggregator 1 time.\n",
      "Reduced MIP has 23 rows, 60 columns, and 120 nonzeros.\n",
      "Reduced MIP has 60 binaries, 0 generals, 0 SOSs, and 0 indicators.\n",
      "Presolve time = 0.00 sec. (0.07 ticks)\n",
      "Probing time = 0.00 sec. (0.06 ticks)\n",
      "Clique table members: 23.\n",
      "MIP emphasis: balance optimality and feasibility.\n",
      "MIP search method: dynamic search.\n",
      "Parallel mode: deterministic, using up to 8 threads.\n",
      "Root relaxation solution time = 0.00 sec. (0.04 ticks)\n",
      "\n",
      "        Nodes                                         Cuts/\n",
      "   Node  Left     Objective  IInf  Best Integer    Best Bound    ItCnt     Gap\n",
      "\n",
      "*     0+    0                         1010.0000        0.0000           100.00%\n",
      "*     0+    0                          769.0000        0.0000           100.00%\n",
      "      0     0        cutoff            769.0000      769.0000        3    0.00%\n",
      "      0     0        cutoff            769.0000      769.0000        3    0.00%\n",
      "Elapsed time = 0.05 sec. (0.47 ticks, tree = 0.01 MB, solutions = 2)\n",
      "\n",
      "Root node processing (before b&c):\n",
      "  Real time             =    0.05 sec. (0.48 ticks)\n",
      "Parallel b&c, 8 threads:\n",
      "  Real time             =    0.00 sec. (0.00 ticks)\n",
      "  Sync time (average)   =    0.00 sec.\n",
      "  Wait time (average)   =    0.00 sec.\n",
      "                          ------------\n",
      "Total (root+branch&cut) =    0.05 sec. (0.48 ticks)\n",
      "* model PredictiveMaintenance solved with objective = 769.000\n",
      "*  KPI: Cost                     = 769.000\n",
      "*  KPI: Total Planned Production = 5715.000\n",
      "*  KPI: Total Production         = 5715.000\n"
     ]
    }
   ],
   "source": [
    "s = mdl.solve(log_output=True)\n",
    "assert s, \"solve failed\"\n",
    "mdl.report()\n",
    "\n",
    "all_kpis = [(kp.name, kp.compute()) for kp in mdl.iter_kpis()]\n",
    "df_kpis = pd.DataFrame(all_kpis, columns=['kpi', 'value'])\n",
    "    "
   ]
  },
  {
   "cell_type": "code",
   "execution_count": 11,
   "metadata": {
    "collapsed": false,
    "deletable": true,
    "editable": true
   },
   "outputs": [],
   "source": [
    "df_production = df_production.production.apply(lambda v: v.solution_value)\n",
    "#df_production"
   ]
  },
  {
   "cell_type": "code",
   "execution_count": 12,
   "metadata": {
    "collapsed": false,
    "deletable": true,
    "editable": true
   },
   "outputs": [],
   "source": [
    "df_maintenance = df_maintenance.maintenance.apply(lambda v: v.solution_value)\n",
    "#df_maintenance"
   ]
  },
  {
   "cell_type": "code",
   "execution_count": 13,
   "metadata": {
    "collapsed": false,
    "deletable": true,
    "editable": true,
    "scrolled": true
   },
   "outputs": [
    {
     "name": "stdout",
     "output_type": "stream",
     "text": [
      "                        kpi   value\n",
      "0                      Cost   769.0\n",
      "1  Total Planned Production  5715.0\n",
      "2          Total Production  5715.0\n"
     ]
    }
   ],
   "source": [
    "\n",
    "df_production = df_production.to_frame()\n",
    "df_production['machine'] = df_production.index.get_level_values('all_machines') \n",
    "df_production['day'] = df_production.index.get_level_values('all_days') \n",
    "df_production.columns = ['production', 'machine', 'day'] \n",
    "df_production = df_production.reset_index(drop=True)\n",
    "\n",
    "df_maintenance = df_maintenance.to_frame()\n",
    "df_maintenance['machine'] = df_maintenance.index.get_level_values('all_machines') \n",
    "df_maintenance['day'] = df_maintenance.index.get_level_values('all_days') \n",
    "df_maintenance.columns = ['maintenance', 'machine', 'day'] \n",
    "df_maintenance = df_maintenance.reset_index(drop=True)\n",
    "\n",
    "outputs = {}\n",
    "    \n",
    "\n",
    "    \n",
    "outputs['cost_maintenance'] = df_cost_maintenance\n",
    "outputs['cumul_failure'] = df_cumul_failure\n",
    "outputs[\"kpis\"] = df_kpis\n",
    "outputs[\"maintenance\"] = df_maintenance\n",
    "outputs[\"production\"] = df_production\n",
    "\n",
    "\n",
    "print df_kpis"
   ]
  },
  {
   "cell_type": "code",
   "execution_count": 85,
   "metadata": {
    "collapsed": false,
    "deletable": true,
    "editable": true
   },
   "outputs": [],
   "source": [
    "#outputs\n",
    "#df_maintenance.to_csv(index=False)"
   ]
  },
  {
   "cell_type": "code",
   "execution_count": null,
   "metadata": {
    "collapsed": true,
    "deletable": true,
    "editable": true
   },
   "outputs": [],
   "source": []
  }
 ],
 "metadata": {
  "kernelspec": {
   "display_name": "Python 2",
   "language": "python",
   "name": "python2"
  },
  "language_info": {
   "codemirror_mode": {
    "name": "ipython",
    "version": 2
   },
   "file_extension": ".py",
   "mimetype": "text/x-python",
   "name": "python",
   "nbconvert_exporter": "python",
   "pygments_lexer": "ipython2",
   "version": "2.7.13"
  }
 },
 "nbformat": 4,
 "nbformat_minor": 2
}
